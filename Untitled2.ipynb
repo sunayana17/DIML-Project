{
 "cells": [
  {
   "cell_type": "code",
   "execution_count": 19,
   "metadata": {},
   "outputs": [
    {
     "name": "stdout",
     "output_type": "stream",
     "text": [
      "206.207.50.254"
     ]
    }
   ],
   "source": [
    "!curl ifconfig.me"
   ]
  },
  {
   "cell_type": "code",
   "execution_count": 21,
   "metadata": {},
   "outputs": [],
   "source": [
    "!export MASTER_ADDR=206.207.50.254"
   ]
  },
  {
   "cell_type": "code",
   "execution_count": 22,
   "metadata": {},
   "outputs": [],
   "source": [
    "!export MASTER_PORT=8\n"
   ]
  },
  {
   "cell_type": "code",
   "execution_count": 73,
   "metadata": {},
   "outputs": [
    {
     "name": "stdout",
     "output_type": "stream",
     "text": [
      "total 116\n",
      "drwxrwxr-x 2 sgupt279 sgupt279     0 Apr 11 08:49 perl5\n",
      "drwxr-xr-x 3 sgupt279 sgupt279   512 Apr 16 22:56 ondemand\n",
      "-rw-r--r-- 1 sgupt279 sgupt279    72 Apr 16 23:44 Untitled1.ipynb\n",
      "-rw-r--r-- 1 sgupt279 sgupt279 12742 Apr 16 23:50 vgg-16-mnist-classification.ipynb\n",
      "drwxr-xr-x 3 sgupt279 sgupt279   512 Apr 17 00:16 data\n",
      "-rw-r--r-- 1 sgupt279 sgupt279 10769 Apr 17 00:17 Untitled.ipynb\n",
      "-rw-r--r-- 1 sgupt279 sgupt279    72 Apr 17 00:19 Untitled3.ipynb\n",
      "drwxr-xr-x 2 sgupt279 sgupt279     0 Apr 17 00:44 Desktop\n",
      "drwxr-xr-x 2 sgupt279 sgupt279     0 Apr 17 00:44 Downloads\n",
      "drwxr-xr-x 2 sgupt279 sgupt279     0 Apr 17 00:44 Templates\n",
      "drwxr-xr-x 2 sgupt279 sgupt279     0 Apr 17 00:44 Public\n",
      "drwxr-xr-x 2 sgupt279 sgupt279     0 Apr 17 00:44 Documents\n",
      "drwxr-xr-x 2 sgupt279 sgupt279     0 Apr 17 00:44 Music\n",
      "drwxr-xr-x 2 sgupt279 sgupt279     0 Apr 17 00:44 Pictures\n",
      "drwxr-xr-x 2 sgupt279 sgupt279     0 Apr 17 00:44 Videos\n",
      "-rw-r--r-- 1 sgupt279 sgupt279  5423 Apr 17 01:59 ddp_tutorial_multi_gpu.py\n",
      "-rw-r--r-- 1 sgupt279 sgupt279  9871 Apr 17 01:59 Untitled2.ipynb\n"
     ]
    }
   ],
   "source": [
    "!ls -ltr"
   ]
  },
  {
   "cell_type": "code",
   "execution_count": 85,
   "metadata": {},
   "outputs": [
    {
     "name": "stdout",
     "output_type": "stream",
     "text": [
      "We have available  2 GPUs!\n",
      "Train Epoch: 1 [0/60000 (0%)]\tLoss: 2.461521\n",
      "Train Epoch: 1 [12800/60000 (21%)]\tLoss: 0.237541\n",
      "Train Epoch: 1 [25600/60000 (43%)]\tLoss: 0.158837\n",
      "Train Epoch: 1 [38400/60000 (64%)]\tLoss: 0.306106\n",
      "Train Epoch: 1 [51200/60000 (85%)]\tLoss: 0.225688\n",
      "\n",
      "Test set: Average loss: 0.0431, Accuracy: 9848/10000 (98%)\n",
      "\n",
      "Train Epoch: 2 [0/60000 (0%)]\tLoss: 0.084469\n",
      "Train Epoch: 2 [12800/60000 (21%)]\tLoss: 0.075592\n",
      "Train Epoch: 2 [25600/60000 (43%)]\tLoss: 0.017002\n",
      "Train Epoch: 2 [38400/60000 (64%)]\tLoss: 0.108534\n",
      "Train Epoch: 2 [51200/60000 (85%)]\tLoss: 0.177869\n",
      "\n",
      "Test set: Average loss: 0.0325, Accuracy: 9896/10000 (99%)\n",
      "\n",
      "Train Epoch: 3 [0/60000 (0%)]\tLoss: 0.018777\n",
      "Train Epoch: 3 [12800/60000 (21%)]\tLoss: 0.037670\n",
      "Train Epoch: 3 [25600/60000 (43%)]\tLoss: 0.043880\n",
      "Train Epoch: 3 [38400/60000 (64%)]\tLoss: 0.064449\n",
      "Train Epoch: 3 [51200/60000 (85%)]\tLoss: 0.040254\n",
      "\n",
      "Test set: Average loss: 0.0274, Accuracy: 9913/10000 (99%)\n",
      "\n",
      "Train Epoch: 4 [0/60000 (0%)]\tLoss: 0.023369\n",
      "Train Epoch: 4 [12800/60000 (21%)]\tLoss: 0.048630\n",
      "Train Epoch: 4 [25600/60000 (43%)]\tLoss: 0.004133\n",
      "Train Epoch: 4 [38400/60000 (64%)]\tLoss: 0.005215\n",
      "Train Epoch: 4 [51200/60000 (85%)]\tLoss: 0.012850\n",
      "\n",
      "Test set: Average loss: 0.0274, Accuracy: 9908/10000 (99%)\n",
      "\n",
      "Train Epoch: 5 [0/60000 (0%)]\tLoss: 0.026287\n",
      "Train Epoch: 5 [12800/60000 (21%)]\tLoss: 0.078417\n",
      "Train Epoch: 5 [25600/60000 (43%)]\tLoss: 0.048741\n",
      "Train Epoch: 5 [38400/60000 (64%)]\tLoss: 0.043145\n",
      "Train Epoch: 5 [51200/60000 (85%)]\tLoss: 0.003767\n",
      "\n",
      "Test set: Average loss: 0.0249, Accuracy: 9921/10000 (99%)\n",
      "\n",
      "\n",
      "real\t1m3.210s\n",
      "user\t1m37.595s\n",
      "sys\t0m8.049s\n"
     ]
    }
   ],
   "source": [
    "!time python ddp_tutorial_multi_gpu.py"
   ]
  },
  {
   "cell_type": "code",
   "execution_count": 44,
   "metadata": {},
   "outputs": [
    {
     "name": "stdout",
     "output_type": "stream",
     "text": [
      "(Not all processes could be identified, non-owned process info\n",
      " will not be shown, you would have to be root to see it all.)\n",
      "Active Internet connections (only servers)\n",
      "Proto Recv-Q Send-Q Local Address           Foreign Address         State       PID/Program name    \n",
      "tcp        0      0 127.0.0.1:43309         0.0.0.0:*               LISTEN      18133/python        \n",
      "tcp        0      0 127.0.0.1:36046         0.0.0.0:*               LISTEN      27482/python        \n",
      "tcp        0      0 127.0.0.1:37518         0.0.0.0:*               LISTEN      19407/python        \n",
      "tcp        0      0 0.0.0.0:111             0.0.0.0:*               LISTEN      -                   \n",
      "tcp        0      0 127.0.0.1:41008         0.0.0.0:*               LISTEN      27482/python        \n",
      "tcp        0      0 127.0.0.1:43984         0.0.0.0:*               LISTEN      24901/python        \n",
      "tcp        0      0 127.0.0.1:49904         0.0.0.0:*               LISTEN      24901/python        \n",
      "tcp        0      0 127.0.0.1:33488         0.0.0.0:*               LISTEN      24901/python        \n",
      "tcp        0      0 127.0.0.1:45744         0.0.0.0:*               LISTEN      19407/python        \n",
      "tcp        0      0 127.0.0.1:38929         0.0.0.0:*               LISTEN      18133/python        \n",
      "tcp        0      0 127.0.0.1:34674         0.0.0.0:*               LISTEN      24901/python        \n",
      "tcp        0      0 127.0.0.1:55826         0.0.0.0:*               LISTEN      19407/python        \n",
      "tcp        0      0 127.0.0.1:56499         0.0.0.0:*               LISTEN      24901/python        \n",
      "tcp        0      0 127.0.0.1:52275         0.0.0.0:*               LISTEN      18133/python        \n",
      "tcp        0      0 127.0.0.1:56883         0.0.0.0:*               LISTEN      18133/python        \n",
      "tcp        0      0 0.0.0.0:43443           0.0.0.0:*               LISTEN      -                   \n",
      "tcp        0      0 0.0.0.0:57332           0.0.0.0:*               LISTEN      -                   \n",
      "tcp        0      0 127.0.0.1:33877         0.0.0.0:*               LISTEN      27482/python        \n",
      "tcp        0      0 0.0.0.0:61525           0.0.0.0:*               LISTEN      7875/python         \n",
      "tcp        0      0 0.0.0.0:22              0.0.0.0:*               LISTEN      -                   \n",
      "tcp        0      0 0.0.0.0:8089            0.0.0.0:*               LISTEN      -                   \n",
      "tcp        0      0 127.0.0.1:25            0.0.0.0:*               LISTEN      -                   \n",
      "tcp        0      0 127.0.0.1:36890         0.0.0.0:*               LISTEN      19407/python        \n",
      "tcp        0      0 127.0.0.1:47901         0.0.0.0:*               LISTEN      19407/python        \n",
      "tcp        0      0 127.0.0.1:34974         0.0.0.0:*               LISTEN      17726/python        \n",
      "tcp        0      0 127.0.0.1:46879         0.0.0.0:*               LISTEN      17726/python        \n",
      "tcp        0      0 127.0.0.1:39456         0.0.0.0:*               LISTEN      17726/python        \n",
      "tcp        0      0 10.126.17.177:48322     0.0.0.0:*               LISTEN      17726/python        \n",
      "tcp        0      0 0.0.0.0:6818            0.0.0.0:*               LISTEN      -                   \n",
      "tcp        0      0 127.0.0.1:56803         0.0.0.0:*               LISTEN      17726/python        \n",
      "tcp        0      0 127.0.0.1:53221         0.0.0.0:*               LISTEN      27482/python        \n",
      "tcp        0      0 127.0.0.1:56261         0.0.0.0:*               LISTEN      19407/python        \n",
      "tcp        0      0 127.0.0.1:36998         0.0.0.0:*               LISTEN      27482/python        \n",
      "tcp        0      0 127.0.0.1:53702         0.0.0.0:*               LISTEN      18133/python        \n",
      "tcp        0      0 127.0.0.1:42310         0.0.0.0:*               LISTEN      18133/python        \n",
      "tcp        0      0 0.0.0.0:8006            0.0.0.0:*               LISTEN      -                   \n",
      "tcp        0      0 10.126.17.177:33127     0.0.0.0:*               LISTEN      17726/python        \n",
      "tcp        0      0 127.0.0.1:54792         0.0.0.0:*               LISTEN      27482/python        \n",
      "tcp        0      0 127.0.0.1:39595         0.0.0.0:*               LISTEN      24901/python        \n",
      "tcp        0      0 127.0.0.1:46475         0.0.0.0:*               LISTEN      17726/python        \n",
      "tcp        0      0 127.0.0.1:46636         0.0.0.0:*               LISTEN      17726/python        \n",
      "udp        0      0 0.0.0.0:57877           0.0.0.0:*                           -                   \n",
      "udp        0      0 0.0.0.0:111             0.0.0.0:*                           -                   \n",
      "udp        0      0 10.126.17.177:123       0.0.0.0:*                           -                   \n",
      "udp        0      0 127.0.0.1:123           0.0.0.0:*                           -                   \n",
      "udp        0      0 0.0.0.0:123             0.0.0.0:*                           -                   \n",
      "udp        0      0 127.0.0.1:703           0.0.0.0:*                           -                   \n",
      "udp        0      0 0.0.0.0:966             0.0.0.0:*                           -                   \n",
      "udp        0      0 0.0.0.0:8004            0.0.0.0:*                           -                   \n",
      "udp        0      0 0.0.0.0:49539           0.0.0.0:*                           -                   \n"
     ]
    }
   ],
   "source": [
    "!netstat -tulpn "
   ]
  },
  {
   "cell_type": "code",
   "execution_count": 49,
   "metadata": {},
   "outputs": [
    {
     "name": "stdout",
     "output_type": "stream",
     "text": [
      "/bin/sh: findstr: command not found\n"
     ]
    }
   ],
   "source": [
    "!netstat -ano | findstr : 8080"
   ]
  },
  {
   "cell_type": "code",
   "execution_count": 54,
   "metadata": {},
   "outputs": [
    {
     "name": "stdout",
     "output_type": "stream",
     "text": [
      "2\n"
     ]
    }
   ],
   "source": [
    "print(torch.cuda.device_count())"
   ]
  },
  {
   "cell_type": "code",
   "execution_count": 62,
   "metadata": {},
   "outputs": [],
   "source": [
    "!netstat -nr | grep default "
   ]
  },
  {
   "cell_type": "code",
   "execution_count": 63,
   "metadata": {},
   "outputs": [
    {
     "name": "stdout",
     "output_type": "stream",
     "text": [
      "default via 10.126.16.1 dev ens6f0 \n"
     ]
    }
   ],
   "source": [
    "!ip route | grep default "
   ]
  },
  {
   "cell_type": "code",
   "execution_count": 82,
   "metadata": {},
   "outputs": [
    {
     "name": "stdout",
     "output_type": "stream",
     "text": [
      "Sun Apr 17 02:09:35 2022       \n",
      "+-----------------------------------------------------------------------------+\n",
      "| NVIDIA-SMI 510.47.03    Driver Version: 510.47.03    CUDA Version: 11.6     |\n",
      "|-------------------------------+----------------------+----------------------+\n",
      "| GPU  Name        Persistence-M| Bus-Id        Disp.A | Volatile Uncorr. ECC |\n",
      "| Fan  Temp  Perf  Pwr:Usage/Cap|         Memory-Usage | GPU-Util  Compute M. |\n",
      "|                               |                      |               MIG M. |\n",
      "|===============================+======================+======================|\n",
      "|   0  NVIDIA GeForce ...  Off  | 00000000:82:00.0 Off |                  N/A |\n",
      "| 27%   27C    P2    33W / 180W |      2MiB /  8192MiB |      0%      Default |\n",
      "|                               |                      |                  N/A |\n",
      "+-------------------------------+----------------------+----------------------+\n",
      "|   1  NVIDIA GeForce ...  Off  | 00000000:83:00.0 Off |                  N/A |\n",
      "| 27%   27C    P2    33W / 180W |      2MiB /  8192MiB |      0%      Default |\n",
      "|                               |                      |                  N/A |\n",
      "+-------------------------------+----------------------+----------------------+\n",
      "                                                                               \n",
      "+-----------------------------------------------------------------------------+\n",
      "| Processes:                                                                  |\n",
      "|  GPU   GI   CI        PID   Type   Process name                  GPU Memory |\n",
      "|        ID   ID                                                   Usage      |\n",
      "|=============================================================================|\n",
      "|  No running processes found                                                 |\n",
      "+-----------------------------------------------------------------------------+\n"
     ]
    }
   ],
   "source": [
    "!nvidia-smi"
   ]
  },
  {
   "cell_type": "code",
   "execution_count": 81,
   "metadata": {},
   "outputs": [],
   "source": [
    "!kill -9 17726"
   ]
  },
  {
   "cell_type": "code",
   "execution_count": null,
   "metadata": {},
   "outputs": [],
   "source": []
  }
 ],
 "metadata": {
  "kernelspec": {
   "display_name": "pytorch-gpu",
   "language": "python",
   "name": "pytorch-gpu"
  },
  "language_info": {
   "codemirror_mode": {
    "name": "ipython",
    "version": 3
   },
   "file_extension": ".py",
   "mimetype": "text/x-python",
   "name": "python",
   "nbconvert_exporter": "python",
   "pygments_lexer": "ipython3",
   "version": "3.7.2"
  }
 },
 "nbformat": 4,
 "nbformat_minor": 2
}
