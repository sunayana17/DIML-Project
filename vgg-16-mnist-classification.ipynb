{
 "cells": [
  {
   "cell_type": "code",
   "execution_count": 1,
   "metadata": {
    "_cell_guid": "b1076dfc-b9ad-4769-8c92-a6c4dae69d19",
    "_uuid": "8f2839f25d086af736a60e9eeb907d3b93b6e0e5",
    "execution": {
     "iopub.execute_input": "2022-04-05T06:50:43.856584Z",
     "iopub.status.busy": "2022-04-05T06:50:43.856303Z",
     "iopub.status.idle": "2022-04-05T06:50:46.830039Z",
     "shell.execute_reply": "2022-04-05T06:50:46.829139Z",
     "shell.execute_reply.started": "2022-04-05T06:50:43.856534Z"
    }
   },
   "outputs": [],
   "source": [
    "import numpy as np # linear algebra\n",
    "import pandas as pd # data processing, CSV file I/O (e.g. pd.read_csv)\n",
    "from tensorflow.keras.utils import to_categorical\n",
    "from tensorflow.keras.models import Sequential\n",
    "from tensorflow.keras.layers import Dense, Dropout\n",
    "from tensorflow.keras.layers import Flatten, Conv2D, MaxPooling2D\n",
    "from sklearn.model_selection import train_test_split\n",
    "import os\n",
    "from tensorflow.keras.layers import BatchNormalization"
   ]
  },
  {
   "cell_type": "code",
   "execution_count": 2,
   "metadata": {
    "_cell_guid": "79c7e3d0-c299-4dcb-8224-4455121ee9b0",
    "_uuid": "d629ff2d2480ee46fbb7e2d37f6b5fab8052498a",
    "execution": {
     "iopub.execute_input": "2022-04-05T06:50:46.832068Z",
     "iopub.status.busy": "2022-04-05T06:50:46.831773Z",
     "iopub.status.idle": "2022-04-05T06:50:46.838285Z",
     "shell.execute_reply": "2022-04-05T06:50:46.837291Z",
     "shell.execute_reply.started": "2022-04-05T06:50:46.832020Z"
    }
   },
   "outputs": [],
   "source": [
    "print(os.listdir(\"../input/Kannada-MNIST/\"))"
   ]
  },
  {
   "cell_type": "code",
   "execution_count": 3,
   "metadata": {
    "execution": {
     "iopub.execute_input": "2022-04-05T06:50:46.843402Z",
     "iopub.status.busy": "2022-04-05T06:50:46.842701Z",
     "iopub.status.idle": "2022-04-05T06:50:52.301832Z",
     "shell.execute_reply": "2022-04-05T06:50:52.301047Z",
     "shell.execute_reply.started": "2022-04-05T06:50:46.843330Z"
    }
   },
   "outputs": [],
   "source": [
    "df_train = pd.read_csv(\"../input/Kannada-MNIST/train.csv\")\n",
    "df_test = pd.read_csv(\"../input/Kannada-MNIST/test.csv\")"
   ]
  },
  {
   "cell_type": "code",
   "execution_count": 4,
   "metadata": {
    "execution": {
     "iopub.execute_input": "2022-04-05T06:50:52.304064Z",
     "iopub.status.busy": "2022-04-05T06:50:52.303712Z",
     "iopub.status.idle": "2022-04-05T06:50:52.309038Z",
     "shell.execute_reply": "2022-04-05T06:50:52.307993Z",
     "shell.execute_reply.started": "2022-04-05T06:50:52.304010Z"
    }
   },
   "outputs": [],
   "source": [
    "print(df_train.shape)\n",
    "print(df_test.shape)"
   ]
  },
  {
   "cell_type": "code",
   "execution_count": 5,
   "metadata": {
    "execution": {
     "iopub.execute_input": "2022-04-05T06:50:52.310836Z",
     "iopub.status.busy": "2022-04-05T06:50:52.310396Z",
     "iopub.status.idle": "2022-04-05T06:50:52.348567Z",
     "shell.execute_reply": "2022-04-05T06:50:52.347851Z",
     "shell.execute_reply.started": "2022-04-05T06:50:52.310774Z"
    }
   },
   "outputs": [],
   "source": [
    "df_train.head()"
   ]
  },
  {
   "cell_type": "code",
   "execution_count": 6,
   "metadata": {
    "execution": {
     "iopub.execute_input": "2022-04-05T06:50:52.689167Z",
     "iopub.status.busy": "2022-04-05T06:50:52.688829Z",
     "iopub.status.idle": "2022-04-05T06:50:52.706892Z",
     "shell.execute_reply": "2022-04-05T06:50:52.706018Z",
     "shell.execute_reply.started": "2022-04-05T06:50:52.689113Z"
    }
   },
   "outputs": [],
   "source": [
    "df_test.head()"
   ]
  },
  {
   "cell_type": "code",
   "execution_count": 7,
   "metadata": {
    "execution": {
     "iopub.execute_input": "2022-04-05T06:51:01.431302Z",
     "iopub.status.busy": "2022-04-05T06:51:01.431010Z",
     "iopub.status.idle": "2022-04-05T06:51:01.437420Z",
     "shell.execute_reply": "2022-04-05T06:51:01.436649Z",
     "shell.execute_reply.started": "2022-04-05T06:51:01.431252Z"
    }
   },
   "outputs": [],
   "source": [
    "X = df_train.iloc[:,1:]\n",
    "y = df_train.iloc[:,0]\n",
    "X_test_actual = df_test.iloc[:,1:]"
   ]
  },
  {
   "cell_type": "code",
   "execution_count": 8,
   "metadata": {
    "execution": {
     "iopub.execute_input": "2022-04-05T06:51:34.907047Z",
     "iopub.status.busy": "2022-04-05T06:51:34.906639Z",
     "iopub.status.idle": "2022-04-05T06:51:35.053354Z",
     "shell.execute_reply": "2022-04-05T06:51:35.052511Z",
     "shell.execute_reply.started": "2022-04-05T06:51:34.906976Z"
    }
   },
   "outputs": [],
   "source": [
    "X = X.to_numpy().reshape(len(X), 28, 28,1).astype('float32')\n",
    "X_test_actual = X_test_actual.to_numpy().reshape(len(X_test_actual), 28, 28, 1).astype('float32')"
   ]
  },
  {
   "cell_type": "code",
   "execution_count": 9,
   "metadata": {
    "execution": {
     "iopub.execute_input": "2022-04-05T06:51:36.806464Z",
     "iopub.status.busy": "2022-04-05T06:51:36.806167Z",
     "iopub.status.idle": "2022-04-05T06:51:36.927504Z",
     "shell.execute_reply": "2022-04-05T06:51:36.926778Z",
     "shell.execute_reply.started": "2022-04-05T06:51:36.806413Z"
    }
   },
   "outputs": [],
   "source": [
    "X = X/255\n",
    "X_test_actual = X_test_actual/255"
   ]
  },
  {
   "cell_type": "code",
   "execution_count": 10,
   "metadata": {
    "execution": {
     "iopub.execute_input": "2022-04-05T06:51:38.730993Z",
     "iopub.status.busy": "2022-04-05T06:51:38.730660Z",
     "iopub.status.idle": "2022-04-05T06:51:38.736265Z",
     "shell.execute_reply": "2022-04-05T06:51:38.735222Z",
     "shell.execute_reply.started": "2022-04-05T06:51:38.730933Z"
    }
   },
   "outputs": [],
   "source": [
    "n_classes=10\n",
    "y = to_categorical(y, n_classes)"
   ]
  },
  {
   "cell_type": "code",
   "execution_count": 11,
   "metadata": {
    "execution": {
     "iopub.execute_input": "2022-04-05T06:51:41.666742Z",
     "iopub.status.busy": "2022-04-05T06:51:41.666438Z",
     "iopub.status.idle": "2022-04-05T06:51:42.048617Z",
     "shell.execute_reply": "2022-04-05T06:51:42.047914Z",
     "shell.execute_reply.started": "2022-04-05T06:51:41.666691Z"
    }
   },
   "outputs": [],
   "source": [
    "X_train, X_test, y_train,  y_test = train_test_split(X, y, test_size=0.3, random_state=42)"
   ]
  },
  {
   "cell_type": "code",
   "execution_count": 13,
   "metadata": {
    "execution": {
     "iopub.execute_input": "2022-04-05T06:52:10.580363Z",
     "iopub.status.busy": "2022-04-05T06:52:10.579764Z",
     "iopub.status.idle": "2022-04-05T06:52:11.246513Z",
     "shell.execute_reply": "2022-04-05T06:52:11.245664Z",
     "shell.execute_reply.started": "2022-04-05T06:52:10.580095Z"
    }
   },
   "outputs": [],
   "source": [
    "model = Sequential()\n",
    "\n",
    "model.add(Conv2D(32, 3, activation='relu', padding='same', input_shape=(28, 28, 1)))\n",
    "model.add(Conv2D(64, 3, activation='relu', padding='same'))\n",
    "model.add(MaxPooling2D(2, 2))\n",
    "model.add(BatchNormalization())\n",
    "\n",
    "model.add(Conv2D(128, 3, activation='relu', padding='same'))\n",
    "model.add(Conv2D(128, 3, activation='relu', padding='same'))\n",
    "model.add(MaxPooling2D(2, 2))\n",
    "model.add(BatchNormalization())\n",
    "\n",
    "model.add(Conv2D(256, 3, activation='relu', padding='same'))\n",
    "model.add(Conv2D(256, 3, activation='relu', padding='same'))\n",
    "model.add(Conv2D(256, 3, activation='relu', padding='same'))\n",
    "model.add(MaxPooling2D(2, 2))\n",
    "model.add(BatchNormalization())\n",
    "\n",
    "model.add(Conv2D(512, 3, activation='relu', padding='same'))\n",
    "model.add(Conv2D(512, 3, activation='relu', padding='same'))\n",
    "model.add(Conv2D(512, 3, activation='relu', padding='same'))\n",
    "model.add(MaxPooling2D(2, 1)) # default stride is 2\n",
    "model.add(BatchNormalization())\n",
    "\n",
    "model.add(Conv2D(512, 3, activation='relu', padding='same'))\n",
    "model.add(Conv2D(512, 3, activation='relu', padding='same'))\n",
    "model.add(Conv2D(512, 3, activation='relu', padding='same'))\n",
    "model.add(MaxPooling2D(2, 1)) # default stride is 2\n",
    "model.add(BatchNormalization())\n",
    "\n",
    "model.add(Flatten())\n",
    "model.add(Dense(4096, activation='relu'))\n",
    "model.add(Dropout(0.5))\n",
    "model.add(Dense(4096, activation='relu'))\n",
    "model.add(Dropout(0.5))\n",
    "\n",
    "model.add(Dense(10, activation='softmax'))"
   ]
  },
  {
   "cell_type": "code",
   "execution_count": 14,
   "metadata": {
    "execution": {
     "iopub.execute_input": "2022-04-05T06:52:12.026279Z",
     "iopub.status.busy": "2022-04-05T06:52:12.025893Z",
     "iopub.status.idle": "2022-04-05T06:52:12.043443Z",
     "shell.execute_reply": "2022-04-05T06:52:12.040806Z",
     "shell.execute_reply.started": "2022-04-05T06:52:12.026215Z"
    }
   },
   "outputs": [],
   "source": [
    "model.summary()"
   ]
  },
  {
   "cell_type": "code",
   "execution_count": 15,
   "metadata": {
    "execution": {
     "iopub.execute_input": "2022-04-05T06:52:33.461400Z",
     "iopub.status.busy": "2022-04-05T06:52:33.461069Z",
     "iopub.status.idle": "2022-04-05T06:52:33.511746Z",
     "shell.execute_reply": "2022-04-05T06:52:33.511021Z",
     "shell.execute_reply.started": "2022-04-05T06:52:33.461345Z"
    }
   },
   "outputs": [],
   "source": [
    "model.compile(loss='categorical_crossentropy',\n",
    "             optimizer='nadam',\n",
    "             metrics=['accuracy'])"
   ]
  },
  {
   "cell_type": "code",
   "execution_count": 16,
   "metadata": {
    "execution": {
     "iopub.execute_input": "2022-04-05T06:52:35.683012Z",
     "iopub.status.busy": "2022-04-05T06:52:35.682679Z",
     "iopub.status.idle": "2022-04-05T06:52:52.461503Z",
     "shell.execute_reply": "2022-04-05T06:52:52.460073Z",
     "shell.execute_reply.started": "2022-04-05T06:52:35.682955Z"
    }
   },
   "outputs": [],
   "source": [
    "history = model.fit(X_train, \n",
    "                    y_train, \n",
    "                    batch_size=128, \n",
    "                    epochs=50,\n",
    "                    verbose=1,\n",
    "                    validation_data=(X_test, y_test)\n",
    "                   )"
   ]
  },
  {
   "cell_type": "code",
   "execution_count": null,
   "metadata": {},
   "outputs": [],
   "source": [
    "import matplotlib.pyplot as plt\n",
    "\n",
    "loss = history.history['loss']\n",
    "val_loss = history.history['val_loss']\n",
    "\n",
    "epochs = range(1, len(loss) + 1)\n",
    "\n",
    "plt.plot(epochs, loss, 'bo', label='Training loss')\n",
    "plt.plot(epochs, val_loss, 'b', label='Validation loss')\n",
    "plt.title('Training and validation loss')\n",
    "plt.xlabel('Epochs')\n",
    "plt.ylabel('Loss')\n",
    "plt.legend()\n",
    "\n",
    "plt.show()"
   ]
  },
  {
   "cell_type": "code",
   "execution_count": null,
   "metadata": {},
   "outputs": [],
   "source": [
    "\n",
    "acc = history.history['accuracy']\n",
    "val_acc = history.history['val_accuracy']\n",
    "\n",
    "plt.plot(epochs, acc, 'bo', label='Training acc')\n",
    "plt.plot(epochs, val_acc, 'b', label='Validation acc')\n",
    "plt.title('Training and validation accuracy')\n",
    "plt.xlabel('Epochs')\n",
    "plt.ylabel('Accuracy')\n",
    "plt.legend()\n",
    "\n",
    "plt.show()"
   ]
  },
  {
   "cell_type": "code",
   "execution_count": null,
   "metadata": {},
   "outputs": [],
   "source": [
    "data_submission = pd.read_csv(\"../input/Kannada-MNIST/sample_submission.csv\")"
   ]
  },
  {
   "cell_type": "code",
   "execution_count": null,
   "metadata": {},
   "outputs": [],
   "source": [
    "y_pre=model.predict(X_test_actual)     ##making prediction\n",
    "y_pre=np.argmax(y_pre,axis=1) ##changing the prediction intro labels"
   ]
  },
  {
   "cell_type": "code",
   "execution_count": null,
   "metadata": {},
   "outputs": [],
   "source": [
    "data_submission['label']=y_pre\n",
    "data_submission.to_csv('submission.csv',index=False)"
   ]
  },
  {
   "cell_type": "code",
   "execution_count": null,
   "metadata": {},
   "outputs": [],
   "source": [
    "data_submission.head()"
   ]
  }
 ],
 "metadata": {
  "kernelspec": {
   "display_name": "Py3-basic",
   "language": "python",
   "name": "python3"
  },
  "language_info": {
   "codemirror_mode": {
    "name": "ipython",
    "version": 3
   },
   "file_extension": ".py",
   "mimetype": "text/x-python",
   "name": "python",
   "nbconvert_exporter": "python",
   "pygments_lexer": "ipython3",
   "version": "3.7.2"
  }
 },
 "nbformat": 4,
 "nbformat_minor": 4
}
